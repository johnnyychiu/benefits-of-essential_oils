{
  "nbformat": 4,
  "nbformat_minor": 0,
  "metadata": {
    "colab": {
      "name": "benefits-of-essential-oils.ipynb",
      "provenance": [],
      "collapsed_sections": [],
      "authorship_tag": "ABX9TyMBqUvFJgw6I+QgJ+Dm1+0k",
      "include_colab_link": true
    },
    "kernelspec": {
      "name": "python3",
      "display_name": "Python 3"
    },
    "language_info": {
      "name": "python"
    }
  },
  "cells": [
    {
      "cell_type": "markdown",
      "metadata": {
        "id": "view-in-github",
        "colab_type": "text"
      },
      "source": [
        "<a href=\"https://colab.research.google.com/github/johnnyychiu/benefits-of-essential_oils/blob/main/benefits_of_essential_oils.ipynb\" target=\"_parent\"><img src=\"https://colab.research.google.com/assets/colab-badge.svg\" alt=\"Open In Colab\"/></a>"
      ]
    },
    {
      "cell_type": "code",
      "metadata": {
        "id": "aqmIV61N9i5Z"
      },
      "source": [
        "text = \"\"\"Analgesic: this is pain-relieving, for mild and sever pain, for shoulder pain, knee pain,back problems, muscle pain. An agent that relieves or diminishes pain: Basil,  Bay Laurel, Bergamot, Black Pepper, Cardamom, German Chamomile, Eucalyptus radiata, Fennel, Fir, Geranium, Ginger, Juniper Berry, Lavender, Lemongrass, Marjoram, Niaouli, Peppermint, Rosemary, Tea Tree.\n",
        "\n",
        "Antidepressant: this lifts the mood, for depressed people. An agent that is uplifting and counteracts melancholy: Basil, Bergamot, Clary Sage, Geranium, Ginger, Grapefruit, Jasmine, Lavender, Lemon, Lemongrass, Litsea Cubeba, Orange, Patchouli, Rose, Rosemary, Ylang Ylang\n",
        "\n",
        "Anti fungal or fungicidal: this inhibits mold and fungi growth. An agent that resists or destroys fungi: Basil , German Chamomile, Clary Sage, Helichrysum, Fennel, Geranium, Litsea Cubeba, Marjoram, Patchouli, Peppermint, Ravensara, Rosemary, Spearmint, Spruce, Tea Tree\n",
        "\n",
        "Anti infectious: this prevents uptake of infection: Basil, Bay Laurel,  Bergamot, Eucalyptus radiata, Helichrysum, Fennel, Geranium, Lavender, Lemon, Lemongrass, Litsea Cubeba, Marjoram, Niaouli, Patchouli, Pine, Ravensara, Rosemary, Rose, Spruce, Tea Tree, Thyme\n",
        "\n",
        "Anti inflammatory: this helps to reduce and prevent inflammation: Basil,  German Chamomile, Helichrysum, Fennel, Geranium, Lavender, Litsea Cubeba, Niaouli, Patchouli, Peppermint, Ravensara, Rosemary, Rose, Spearmint, Spruce, Tea Tree\n",
        "\n",
        "Antispasmodic: this relieves muscle spasm in smooth muscle.  An agent tthat prevents and eases spasms and relieves cramps: Basil, Black Pepper, German Chamomile, Cinnamon, Clary Sage, Cypress, Eucalyptus radiata, Helichrysum, Fennel, Geranium, Jasmine, Juniper Berry, Lavender, Lemon, Mandarin, Marjoram,Orange, Peppermint, Rose, Spearmint, Spruce, Thyme\n",
        "\n",
        "Antiseptic:  this is cleansing and prevents the development of microbes: Basil, Bay Laurel, Bergamot, Black Pepper, Cardamom, Cedarwood, Cinnamon, Cypress, Helichrysum, Fir, Frankincense, Geranium, Ginger, Jasmine, Juniper Berry, Lavender, Lemongrass, Litsea Cubeba, Marjoram, Niaouli, Patchouli, Peppermint, Pine, Ravensara, Rose, Spearmint, Tea Tree, Thyme, Vetiver, Ylang Ylang\n",
        "\n",
        "Aphrodisiac: this increases sexual desire.  An agent that provokes sexual interest and excitement: Cinnamon, Jasmine, Patchouli, Rosemary, Rose, Ylang Ylang\n",
        "\n",
        "Astringent: this contracts blood vessels and body tissue.  An agent that contracts, tightens and binds tissues: Cedarwood, Cypress, Eucalyptus radiata, Frankincense, Geranium, Juniper Berry, Lavender, Lemon, Lemongrass, Litsea Cubeba, Patchouli, Peppermint, Rosemary,\n",
        "\n",
        "Calming: this produces a sedative or tranquilizing effect:  Basil, Clary Sage, Geranium, Juniper Berry, Lavender, Lemon, Marjoram, Pine\n",
        "\n",
        "Carminative: this reduces intestinal spasm, settles the digestive system. An agent that settles the digestive system and the expulsion of gas from the intestines: Basil, Bay Laurel, Bergamot, Black Pepper, Cardamom, German Chamomile, Cinnamon, Fennel, Frankincense, Geranium, Ginger, Juniper Berry, Lavender, Lemon, Lemongrass, Litsea Cubeba, Marjoram, Orange, Peppermint, Rosemary, Thyme\n",
        "\n",
        "Cicatrizant: promotes healing of scar tissue: Bergamot, German Chamomile, Eucalyptus radiata, Helichrysum, Frankincense, Lemon, Niaouli, Patchouli, Rosemary, Rose, Spearmint, Tea Tree, Thyme\n",
        "\n",
        "Cephalic: this is stimulating and clears the mind: Basil, Cardamom, Peppermint, Rosemary, Spearmint\n",
        "\n",
        "Decongestant: this reduces or relieves congestion: German Chamomile, Clary Sage, Eucalyptus radiata, Fennel, Geranium, Grapefruit, Juniper Berry, Lavender, Lemon, Mandarin, Marjoram, Niaouli, Orange, Patchouli, Peppermint, Ravensara, Rosemary, Rose\n",
        "\n",
        "Deodorant: this destroys or inhibits odors: Bergamot, Clary Sage, Cypress, Eucalyptus radiata, Fir, Geranium, Lavender, Lemongrass, Patchouli, Pine\n",
        "\n",
        "Digestive: this aids the digestion of food: Basil, Bay Laurel, Cardamom, German Chamomile, Helichrysum, Fennel, Lavender, Mandarin, Marjoram, Niaouli, Orange, Peppermint, Rosemary, Rose\n",
        "\n",
        "Diuretic: this aids urine production: Cardamom, Cedarwood, Cypress, Eucalyptus radiata, Helichrysum, Fennel, Frankincense, Geranium, Grapefruit, Mandarin, Patchouli, Pine, Rosemary, Thyme\n",
        "\n",
        "Expectorant: this expels mucus in the respiratory system: Basil, Bay Laurel, Cardamom, Cedarwood, Eucalyptus radiata, Helichrysum, Fir, Frankincense, Ginger, Marjoram, Niaouli, Peppermint, Pine, Ravensara, Tea Tree, Thyme\n",
        "\n",
        "Febrifuge: this helps reduce fever.  An agent that cools and reduces high body temperature: Basil, Bay Laurel, Bergamot, Black Pepper, Eucalyptus radiata, Ginger, Lemon, Lemongrass, Niaouli, Patchouli, Peppermint, Spruce\n",
        "\n",
        "Immune stimulant: this stimulates the correct function of the immune system: Cypress, Frankincense, Niaouli, Patchouli, Tea Tree\n",
        "\n",
        "Hormone influencer: this is a tonic of the hormone system. An aent that stimulates the action of hormones: Basil,  German Chamomile, Clary Sage, Helichrysum, Fennel, Geranium, Juniper Berry, Marjoram,Niaouli, Peppermint, Rosemary, Spruce, Ylang Ylang\n",
        "\n",
        "Rubefacient: this is warming and increases blood flow: Black Pepper, Eucalyptus radiata, Fir, Ginger, Lemon, Niaouli, Pine, Rosemary, Vetiver\n",
        "\n",
        "Sedative: this slows down functional activity and lessens excitement, calming.  An agent that reduces nervousness, distress, or agitation: Bergamot, Cedarwood, German Chamomile, Clary Sage, Frankincense, Jasmine, Lavender, Mandarin, Marjoram, Orange, Patchouli, Rose, Vetiver, Ylang Ylang\n",
        "\n",
        "Stimulant: this has an uplifting effect on the body. An agent that stimulates the physiological functions of the body: Basil, Cardamom, Cinnamon, Fir, Ginger, Grapefruit, Juniper Berry, Litsea Cubeba, Niaouli, Peppermint, Rosemary, Spearmint, Tea Tree, Thyme\n",
        "\n",
        "Tonic: strengthens and enlivens the body or parts of the body: Basil, Bay Laurel, Bergamot, Cardamom, Clary Sage, Cypress, Helichrysum, Fennel, Ginger, Juniper Berry, Lemon, Litsea Cubeba, Marjoram, Niaouli, Pine, Ravensara, Rosemary, Rose, Spearmint, Spruce, Thyme,Vetiver\n",
        "\n",
        "Vulnerary: this prevents tissue degeneration and promotes healing of wounds: Bergamot, German Chamomile, Eucalyptus radiata, Frankincense, Geranium, Juniper Berry, Lavender, Marjoram, NiaouliReference: Battaglia Salvatore. The Complete Guide To Aromatherapy.\"\"\""
      ],
      "execution_count": null,
      "outputs": []
    },
    {
      "cell_type": "code",
      "metadata": {
        "colab": {
          "base_uri": "https://localhost:8080/"
        },
        "id": "WNmV5mrB904i",
        "outputId": "3bf8d2f9-277f-43e0-bba6-757df1e21ed3"
      },
      "source": [
        "oil = {}\n",
        "benefit = []\n",
        "for line in text.split('\\n'):\n",
        "  if len(line) < 3:\n",
        "    continue\n",
        "  benefit_name = line.split(':')[0]\n",
        "  benefit.append(benefit_name)\n",
        "  for oil_name in line.split(':')[2].split(','):\n",
        "    if len(oil_name.strip()) < 1:\n",
        "      continue\n",
        "    if oil_name.strip() not in oil:\n",
        "      oil[oil_name.strip()] = []\n",
        "    oil[oil_name.strip()].append(benefit_name)\n",
        "print(benefit)"
      ],
      "execution_count": null,
      "outputs": [
        {
          "output_type": "stream",
          "text": [
            "['Analgesic', 'Antidepressant', 'Anti fungal or fungicidal', 'Anti infectious', 'Anti inflammatory', 'Antispasmodic', 'Antiseptic', 'Aphrodisiac', 'Astringent', 'Calming', 'Carminative', 'Cicatrizant', 'Cephalic', 'Decongestant', 'Deodorant', 'Digestive', 'Diuretic', 'Expectorant', 'Febrifuge', 'Immune stimulant', 'Hormone influencer', 'Rubefacient', 'Sedative', 'Stimulant', 'Tonic', 'Vulnerary']\n"
          ],
          "name": "stdout"
        }
      ]
    },
    {
      "cell_type": "code",
      "metadata": {
        "colab": {
          "base_uri": "https://localhost:8080/"
        },
        "id": "tcQKV3GT_AYr",
        "outputId": "2ef0dcc2-2928-4727-d65d-53035bcf8665"
      },
      "source": [
        "print(','.join([' '] + benefit))\n",
        "for o in oil:\n",
        "  matching = [o]\n",
        "  for b in benefit:\n",
        "    if b in oil[o]:\n",
        "      matching.append('x')\n",
        "    else:\n",
        "      matching.append(' ')\n",
        "  print(','.join(matching))"
      ],
      "execution_count": null,
      "outputs": [
        {
          "output_type": "stream",
          "text": [
            " ,Analgesic,Antidepressant,Anti fungal or fungicidal,Anti infectious,Anti inflammatory,Antispasmodic,Antiseptic,Aphrodisiac,Astringent,Calming,Carminative,Cicatrizant,Cephalic,Decongestant,Deodorant,Digestive,Diuretic,Expectorant,Febrifuge,Immune stimulant,Hormone influencer,Rubefacient,Sedative,Stimulant,Tonic,Vulnerary\n",
            "Basil,x,x,x,x,x,x,x, , ,x,x, ,x, , ,x, ,x,x, ,x, , ,x,x, \n",
            "Bay Laurel,x, , ,x, , ,x, , , ,x, , , , ,x, ,x,x, , , , , ,x, \n",
            "Bergamot,x,x, ,x, , ,x, , , ,x,x, , ,x, , , ,x, , , ,x, ,x,x\n",
            "Black Pepper,x, , , , ,x,x, , , ,x, , , , , , , ,x, , ,x, , , , \n",
            "Cardamom,x, , , , , ,x, , , ,x, ,x, , ,x,x,x, , , , , ,x,x, \n",
            "German Chamomile,x, ,x, ,x,x, , , , ,x,x, ,x, ,x, , , , ,x, ,x, , ,x\n",
            "Eucalyptus radiata,x, , ,x, ,x, , ,x, , ,x, ,x,x, ,x,x,x, , ,x, , , ,x\n",
            "Fennel,x, ,x,x,x,x, , , , ,x, , ,x, ,x,x, , , ,x, , , ,x, \n",
            "Fir,x, , , , , ,x, , , , , , , ,x, , ,x, , , ,x, ,x, , \n",
            "Geranium,x,x,x,x,x,x,x, ,x,x,x, , ,x,x, ,x, , , ,x, , , , ,x\n",
            "Ginger,x,x, , , , ,x, , , ,x, , , , , , ,x,x, , ,x, ,x,x, \n",
            "Juniper Berry,x, , , , ,x,x, ,x,x,x, , ,x, , , , , , ,x, , ,x,x,x\n",
            "Lavender,x,x, ,x,x,x,x, ,x,x,x, , ,x,x,x, , , , , , ,x, , ,x\n",
            "Lemongrass,x,x, ,x, , ,x, ,x, ,x, , , ,x, , , ,x, , , , , , , \n",
            "Marjoram,x, ,x,x, ,x,x, , ,x,x, , ,x, ,x, ,x, , ,x, ,x, ,x,x\n",
            "Niaouli,x, , ,x,x, ,x, , , , ,x, ,x, ,x, ,x,x,x,x,x, ,x,x, \n",
            "Peppermint,x, ,x, ,x,x,x, ,x, ,x, ,x,x, ,x, ,x,x, ,x, , ,x, , \n",
            "Rosemary,x,x,x,x,x, , ,x,x, ,x,x,x,x, ,x,x, , , ,x,x, ,x,x, \n",
            "Tea Tree.,x, , , , , , , , , , , , , , , , , , , , , , , , , \n",
            "Clary Sage, ,x,x, , ,x, , , ,x, , , ,x,x, , , , , ,x, ,x, ,x, \n",
            "Grapefruit, ,x, , , , , , , , , , , ,x, , ,x, , , , , , ,x, , \n",
            "Jasmine, ,x, , , ,x,x,x, , , , , , , , , , , , , , ,x, , , \n",
            "Lemon, ,x, ,x, ,x, , ,x,x,x,x, ,x, , , , ,x, , ,x, , ,x, \n",
            "Litsea Cubeba, ,x,x,x,x, ,x, ,x, ,x, , , , , , , , , , , , ,x,x, \n",
            "Orange, ,x, , , ,x, , , , ,x, , ,x, ,x, , , , , , ,x, , , \n",
            "Patchouli, ,x,x,x,x, ,x,x,x, , ,x, ,x,x, ,x, ,x,x, , ,x, , , \n",
            "Rose, ,x, ,x,x,x,x,x, , , ,x, ,x, ,x, , , , , , ,x, ,x, \n",
            "Ylang Ylang, ,x, , , , ,x,x, , , , , , , , , , , , ,x, ,x, , , \n",
            "Helichrysum, , ,x,x,x,x,x, , , , ,x, , , ,x,x,x, , ,x, , , ,x, \n",
            "Ravensara, , ,x,x,x, ,x, , , , , , ,x, , , ,x, , , , , , ,x, \n",
            "Spearmint, , ,x, ,x,x,x, , , , ,x,x, , , , , , , , , , ,x,x, \n",
            "Spruce, , ,x,x,x,x, , , , , , , , , , , , ,x, ,x, , , ,x, \n",
            "Tea Tree, , ,x,x,x, ,x, , , , ,x, , , , , ,x, ,x, , , ,x, , \n",
            "Pine, , , ,x, , ,x, , ,x, , , , ,x, ,x,x, , , ,x, , ,x, \n",
            "Thyme, , , ,x, ,x,x, , , ,x,x, , , , ,x,x, , , , , ,x,x, \n",
            "Cinnamon, , , , , ,x,x,x, , ,x, , , , , , , , , , , , ,x, , \n",
            "Cypress, , , , , ,x,x, ,x, , , , , ,x, ,x, , ,x, , , , ,x, \n",
            "Mandarin, , , , , ,x, , , , , , , ,x, ,x,x, , , , , ,x, , , \n",
            "Cedarwood, , , , , , ,x, ,x, , , , , , , ,x,x, , , , ,x, , , \n",
            "Frankincense, , , , , , ,x, ,x, ,x,x, , , , ,x,x, ,x, , ,x, , ,x\n",
            "Vetiver, , , , , , ,x, , , , , , , , , , , , , , ,x,x, ,x, \n",
            "NiaouliReference, , , , , , , , , , , , , , , , , , , , , , , , , ,x\n"
          ],
          "name": "stdout"
        }
      ]
    }
  ]
}